{
 "cells": [
  {
   "cell_type": "code",
   "execution_count": 19,
   "id": "ca4482c9-a759-4afb-aa55-a692a8df3c4f",
   "metadata": {},
   "outputs": [],
   "source": [
    "import pandas as pd\n",
    "from sklearn.model_selection import train_test_split\n",
    "from sklearn.preprocessing import StandardScaler\n",
    "from sklearn.ensemble import GradientBoostingRegressor\n",
    "from sklearn.pipeline import Pipeline\n",
    "from sklearn.metrics import mean_squared_error, r2_score\n",
    "import pickle\n",
    "\n",
    "from constants import INPUT_DATA_COLUMNS, OUTPUT_DATA_COLUMNS, DATA_COLUMNS_TO_DELETE, DATA_PATH\n",
    "\n",
    "\n",
    "def load_data(input_columns, output_data_columns):\n",
    "    df = pd.read_excel(\n",
    "        io=DATA_PATH,\n",
    "        sheet_name='Dane',\n",
    "        skiprows=1,\n",
    "        nrows=520,\n",
    "        usecols=input_columns + output_data_columns,\n",
    "    )\n",
    "    return df\n",
    "\n"
   ]
  },
  {
   "cell_type": "code",
   "execution_count": 20,
   "id": "fe76a8cc-abe9-48c0-84d9-d61aa25df057",
   "metadata": {},
   "outputs": [],
   "source": [
    "def process_data(data, target_column, augmentation, feature_selection):\n",
    "    column_mapping = {\n",
    "    'C': 'c',\n",
    "    'Si': 'si',\n",
    "    'Mn': 'mn',\n",
    "    'Mg': 'mg',\n",
    "    'Cu': 'cu',\n",
    "    'Ni': 'ni',\n",
    "    'Mo': 'mo',\n",
    "    'aust_temp': 'austTemp',\n",
    "    'aust_czas': 'austTime',\n",
    "    'ausf_temp': 'ausfTemp',\n",
    "    'ausf_czas': 'ausfTime',\n",
    "    'grubość [mm]': 'thickness'\n",
    "    }\n",
    "    data = data.dropna(subset=[target_column])\n",
    "    X = data[INPUT_DATA_COLUMNS]\n",
    "    X = X.rename(columns=column_mapping)\n",
    "    y = data[target_column]\n",
    "    # TODO: augmentation\n",
    "    if augmentation:\n",
    "        X = X.drop(DATA_COLUMNS_TO_DELETE, axis=1)\n",
    "    # TODO: feature_selection\n",
    "    if feature_selection:\n",
    "        pass\n",
    "    X_train, X_test, y_train, y_test = train_test_split(X, y, test_size=0.2, random_state=7)\n",
    "\n",
    "    return X_train, X_test, y_train, y_test\n",
    "\n"
   ]
  },
  {
   "cell_type": "code",
   "execution_count": 21,
   "id": "3278a449-2c89-4851-9b52-eff325a56f40",
   "metadata": {},
   "outputs": [],
   "source": [
    "def train_model(target_feature):\n",
    "    pipe = Pipeline([\n",
    "    ('scaler', StandardScaler()),\n",
    "    ('regressor', GradientBoostingRegressor(\n",
    "        learning_rate=0.1,\n",
    "        max_depth=5,\n",
    "        max_features='sqrt',\n",
    "        min_samples_leaf=1,\n",
    "        min_samples_split=5,\n",
    "        n_estimators=200))\n",
    "    ])\n",
    "\n",
    "    # Trenowanie modelu\n",
    "    pipe.fit(X_train, y_train)\n",
    "\n",
    "    # Przewidywanie na danych testowych\n",
    "    y_pred = pipe.predict(X_test)\n",
    "\n",
    "    # Obliczanie metryk RMSE i R^2\n",
    "    rmse = mean_squared_error(y_test, y_pred, squared=False)\n",
    "    r2 = r2_score(y_test, y_pred)\n",
    "\n",
    "    print(f'RMSE: {rmse}')\n",
    "    print(f'R^2: {r2}')\n",
    "\n",
    "    # Zapisywanie modelu do pliku .pkl\n",
    "    results_file_name = f\"models/{target_feature}.pkl\"\n",
    "    with open(results_file_name, 'wb') as file:\n",
    "        pickle.dump(pipe, file)"
   ]
  },
  {
   "cell_type": "code",
   "execution_count": 22,
   "id": "6d3445c1-f7e1-4817-8932-09985410fe76",
   "metadata": {},
   "outputs": [
    {
     "name": "stdout",
     "output_type": "stream",
     "text": [
      "RMSE: 93.25693806366635\n",
      "R^2: 0.8419045517689184\n",
      "RMSE: 103.8236026628904\n",
      "R^2: 0.7470286736956242\n",
      "RMSE: 1.6062289935395262\n",
      "R^2: 0.7593678443093528\n",
      "RMSE: 23.927898459215125\n",
      "R^2: 0.8639863043967934\n",
      "RMSE: 17.87902147504623\n",
      "R^2: 0.8116852436793097\n"
     ]
    }
   ],
   "source": [
    "PHYSICAL_PARAMETERS = ['Rm', 'Rp02', 'A5', 'HB', 'K']\n",
    "for parameter in PHYSICAL_PARAMETERS:\n",
    "    data = load_data(INPUT_DATA_COLUMNS, OUTPUT_DATA_COLUMNS)\n",
    "    X_train, X_test, y_train, y_test = process_data(data, parameter, True, False)\n",
    "    train_model(parameter)"
   ]
  },
  {
   "cell_type": "code",
   "execution_count": 1,
   "id": "22da3c29-5b3f-437e-99fb-2c004755ffd9",
   "metadata": {},
   "outputs": [
    {
     "name": "stdout",
     "output_type": "stream",
     "text": [
      "Requirement already satisfied: scikit-learn==1.3.2 in b:\\programms\\anaconda\\lib\\site-packages (1.3.2)\n",
      "Requirement already satisfied: scipy>=1.5.0 in b:\\programms\\anaconda\\lib\\site-packages (from scikit-learn==1.3.2) (1.9.1)\n",
      "Requirement already satisfied: numpy<2.0,>=1.17.3 in b:\\programms\\anaconda\\lib\\site-packages (from scikit-learn==1.3.2) (1.21.5)\n",
      "Requirement already satisfied: joblib>=1.1.1 in b:\\programms\\anaconda\\lib\\site-packages (from scikit-learn==1.3.2) (1.3.2)\n",
      "Requirement already satisfied: threadpoolctl>=2.0.0 in b:\\programms\\anaconda\\lib\\site-packages (from scikit-learn==1.3.2) (2.2.0)\n",
      "Note: you may need to restart the kernel to use updated packages.\n"
     ]
    }
   ],
   "source": []
  },
  {
   "cell_type": "code",
   "execution_count": 10,
   "id": "14acb47e-82d6-4331-a037-d924ec335fb8",
   "metadata": {},
   "outputs": [],
   "source": []
  },
  {
   "cell_type": "code",
   "execution_count": null,
   "id": "599874aa-a3e1-4c1f-afbb-7fd91229ef83",
   "metadata": {},
   "outputs": [],
   "source": []
  }
 ],
 "metadata": {
  "kernelspec": {
   "display_name": "Python 3 (ipykernel)",
   "language": "python",
   "name": "python3"
  },
  "language_info": {
   "codemirror_mode": {
    "name": "ipython",
    "version": 3
   },
   "file_extension": ".py",
   "mimetype": "text/x-python",
   "name": "python",
   "nbconvert_exporter": "python",
   "pygments_lexer": "ipython3",
   "version": "3.9.13"
  }
 },
 "nbformat": 4,
 "nbformat_minor": 5
}
